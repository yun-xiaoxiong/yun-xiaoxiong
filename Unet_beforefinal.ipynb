{
  "cells": [
    {
      "cell_type": "markdown",
      "metadata": {
        "id": "view-in-github",
        "colab_type": "text"
      },
      "source": [
        "<a href=\"https://colab.research.google.com/github/yun-xiaoxiong/yun-xiaoxiong/blob/main/Unet_beforefinal.ipynb\" target=\"_parent\"><img src=\"https://colab.research.google.com/assets/colab-badge.svg\" alt=\"Open In Colab\"/></a>"
      ]
    },
    {
      "cell_type": "markdown",
      "metadata": {
        "id": "15mshUy_oJ7R"
      },
      "source": [
        "# Unet模型复现 \n",
        "###姓名： 张宗云\n",
        "###时间： 2022年5月"
      ]
    },
    {
      "cell_type": "code",
      "execution_count": null,
      "metadata": {
        "colab": {
          "base_uri": "https://localhost:8080/"
        },
        "id": "RAtMqfHFYMVI",
        "outputId": "ade3cc72-b249-4f25-a0b0-b82a42b6f3f4"
      },
      "outputs": [
        {
          "name": "stdout",
          "output_type": "stream",
          "text": [
            "Collecting SimpleITK\n",
            "  Downloading SimpleITK-2.1.1.2-cp37-cp37m-manylinux_2_12_x86_64.manylinux2010_x86_64.whl (48.4 MB)\n",
            "\u001b[K     |████████████████████████████████| 48.4 MB 1.6 MB/s \n",
            "\u001b[?25hInstalling collected packages: SimpleITK\n",
            "Successfully installed SimpleITK-2.1.1.2\n"
          ]
        }
      ],
      "source": [
        "!pip install SimpleITK\n",
        "import torch\n",
        "import torch.nn as nn\n",
        "import numpy as np\n",
        "import torch.optim as optim\n",
        "from torch.utils.data import Dataset, DataLoader\n",
        "import torchvision\n",
        "import SimpleITK as sitk\n",
        "import os\n",
        "import glob\n",
        "import random\n",
        "import matplotlib.pyplot as plt\n",
        "# torch.cuda.empty_cache()"
      ]
    },
    {
      "cell_type": "markdown",
      "metadata": {
        "id": "DhrMRGDgq8Mn"
      },
      "source": [
        "**设置超参数**"
      ]
    },
    {
      "cell_type": "code",
      "execution_count": null,
      "metadata": {
        "id": "9uw88Y4sCHo0"
      },
      "outputs": [],
      "source": [
        "learning_rate=1e-4\n",
        "batch_size=1\n",
        "epoch=20\n",
        "device=torch.device(\"cuda\" if torch.cuda.is_available() else \"cpu\")"
      ]
    },
    {
      "cell_type": "markdown",
      "metadata": {
        "id": "DxU-C2nxq_CB"
      },
      "source": [
        "**加载数据集：**其中训练集32个样本，测试集16幅图像"
      ]
    },
    {
      "cell_type": "code",
      "execution_count": null,
      "metadata": {
        "colab": {
          "base_uri": "https://localhost:8080/"
        },
        "id": "tcvZoeO07Rll",
        "outputId": "8d04afd4-101d-445c-bfd9-4357e7f2711b"
      },
      "outputs": [
        {
          "name": "stdout",
          "output_type": "stream",
          "text": [
            "训练集数据个数： 1\n",
            "测试集数据个数： 1\n"
          ]
        }
      ],
      "source": [
        "class Slice_Loader(Dataset):    \n",
        "    def __init__(self, data_path):        # 初始化函数，读取所有data_path下的图片        \n",
        "        self.data_path = data_path        \n",
        "        self.imgs_path_f = glob.glob(os.path.join(data_path, 'img_600/*.nii.gz'))\n",
        "        self.imgs_path_l = glob.glob(os.path.join(data_path, 'label_600/*.nii.gz'))\n",
        "    \n",
        "    def __getitem__(self, index):        # 根据index读取图片        \n",
        "        image_path_f = self.imgs_path_f[index]\n",
        "        image_path_l = self.imgs_path_l[index]  \n",
        "        imagef = sitk.ReadImage(image_path_f)\n",
        "        imagef_array=sitk.GetArrayFromImage(imagef)\n",
        "        imagel = sitk.ReadImage(image_path_l)\n",
        "        imagel_array=sitk.GetArrayFromImage(imagel)\n",
        "        return imagef_array,imagel_array\n",
        "\n",
        "        \n",
        "    def __len__(self):      \n",
        "        return len(self.imgs_path_l)\n",
        "\n",
        "\n",
        "dataset = Slice_Loader(\"/content/\")\n",
        "test_dataset = Slice_Loader(\"/content/\")    \n",
        "print(\"训练集数据个数：\", len(dataset))\n",
        "print(\"测试集数据个数：\", len(test_dataset))  \n",
        "train_loader = DataLoader(dataset=dataset,batch_size=batch_size,shuffle=True)\n",
        "test_loader = DataLoader(dataset=test_dataset,batch_size=batch_size,shuffle=True)"
      ]
    },
    {
      "cell_type": "markdown",
      "metadata": {
        "id": "daJ5iSwJrRIk"
      },
      "source": [
        "**定义模型**"
      ]
    },
    {
      "cell_type": "code",
      "execution_count": null,
      "metadata": {
        "id": "0Yi90GXY8xxx"
      },
      "outputs": [],
      "source": [
        "class Unit(nn.Module):\n",
        "    def __init__(self,ch_in,ch_out,kernel_size=3,stride=1,padding=1):\n",
        "        super(Unit,self).__init__()\n",
        "        self.an_unit=nn.Sequential(                         \n",
        "            nn.Conv2d(ch_in,ch_out,kernel_size=kernel_size,stride=stride,padding=padding),\n",
        "            nn.BatchNorm2d(ch_out),\n",
        "            nn.ReLU(),\n",
        "            nn.Conv2d(ch_out,ch_out,kernel_size=kernel_size,stride=stride,padding=padding),\n",
        "            nn.BatchNorm2d(ch_out),\n",
        "            nn.ReLU()\n",
        "        )\n",
        "    def forward(self,x):\n",
        "        return self.an_unit(x)\n",
        "\n",
        "class Unet(nn.Module):\n",
        "    def __init__(self):\n",
        "        super(Unet,self).__init__()\n",
        "        self.pool=nn.MaxPool2d(2,stride=2)\n",
        "        self.cr1=Unit(1,64)\n",
        "        self.cr2=Unit(64,128)\n",
        "        self.cr3=Unit(128,256)\n",
        "        self.cr4=Unit(256,512)\n",
        "        self.cr5=Unit(512,1024)\n",
        "        \n",
        "        self.up1=Unit(1024,512)\n",
        "        self.up2=Unit(512,256)\n",
        "        self.up3=Unit(256,128)\n",
        "        self.up4=Unit(128,64)\n",
        "        \n",
        "        self.conv=nn.Sequential(\n",
        "            nn.Conv2d(64,64,kernel_size=3,stride=1,padding=1),\n",
        "            nn.BatchNorm2d(64),\n",
        "            nn.ReLU(),\n",
        "            nn.Conv2d(64,2,kernel_size=1,stride=1,padding=0)\n",
        "            #nn.BatchNorm2d(1)\n",
        "        )\n",
        "        \n",
        "    def forward(self,x):\n",
        "        x1=self.cr1(x)\n",
        "        x2=self.cr2(self.pool(x1))\n",
        "        x3=self.cr3(self.pool(x2))\n",
        "        x4=self.cr4(self.pool(x3))\n",
        "        x5=self.cr5(self.pool(x4))\n",
        "        x5_up=self.up1(nn.functional.interpolate(x5,scale_factor=2))\n",
        "        # print(x4.shape)\n",
        "        # print(x5_up.shape)\n",
        "        x6=self.up1(torch.cat([x4,x5_up],1))\n",
        "        x6_up=self.up2(nn.functional.interpolate(x6,scale_factor=2))\n",
        "        x7=self.up2(torch.cat([x3,x6_up],1))\n",
        "        x7_up=self.up3(nn.functional.interpolate(x7,scale_factor=2))\n",
        "        x8=self.up3(torch.cat([x2,x7_up],1))\n",
        "        x8_up=self.up4(nn.functional.interpolate(x8,scale_factor=2))\n",
        "        x9=self.up4(torch.cat([x1,x8_up],1))\n",
        "        x10=self.conv(x9)\n",
        "        return x10"
      ]
    },
    {
      "cell_type": "markdown",
      "metadata": {
        "id": "33VMNHS3cAvu"
      },
      "source": [
        "a=torch.randn(1,4,4,4)<br>\n",
        "b=nn.functional.interpolate(a,64)<br>\n",
        "b.shape<br>\n",
        "torch.Size([1, 4, 64, 64])"
      ]
    },
    {
      "cell_type": "markdown",
      "metadata": {
        "id": "Hx8S0qZGrWlQ"
      },
      "source": [
        "**训练函数**"
      ]
    },
    {
      "cell_type": "code",
      "execution_count": null,
      "metadata": {
        "colab": {
          "background_save": true
        },
        "id": "RY1PAdtf85kQ"
      },
      "outputs": [],
      "source": [
        "model=Unet()\n",
        "model=model.cuda()\n",
        "optimizer=optim.SGD(model.parameters(),lr=learning_rate,momentum=0.9 )\n",
        "loss_fn=nn.BCELoss()\n",
        "\n",
        "def train():\n",
        "  model.train()\n",
        "  for ep in range(epoch):\n",
        "      for batch_id,(feature,label) in enumerate(train_loader):\n",
        "          a=[]\n",
        "          feature=feature.cuda()\n",
        "          label=label.cuda()\n",
        "          # feature.shape:  [4, 512, 512]\n",
        "          out=model(feature.unsqueeze(1)) #[4, 2, 512, 512]\n",
        "          pred=out.transpose(1,2).transpose(2,3).contiguous().view(-1,2)\n",
        "          \n",
        "          true=label.view(-1,1).long()\n",
        "          # print(true.shape)\n",
        "          loss=loss_fn(pred,true)\n",
        "          optimizer.zero_grad()\n",
        "          loss.backward()\n",
        "          optimizer.step()\n",
        "          a.append(loss.item())\n",
        "      print(\"epoch:\",ep+1,\"  loss: \",np.mean(a))\n",
        "      test()"
      ]
    },
    {
      "cell_type": "markdown",
      "metadata": {
        "id": "HoOw-vPArZDc"
      },
      "source": [
        "**计算准确率**"
      ]
    },
    {
      "cell_type": "code",
      "execution_count": null,
      "metadata": {
        "id": "wJFpexRSrbyy"
      },
      "outputs": [],
      "source": [
        "def test():\n",
        "    jiao=0\n",
        "    bing=0\n",
        "    for batch_id,(feature,label) in enumerate(test_loader):\n",
        "        # print(feature.shape)  torch.Size([4, 512, 512])\n",
        "        # print(label.shape)  torch.Size([4, 512, 512])\n",
        "        model.eval()\n",
        "        feature=feature.to(device)\n",
        "        label=label.to(device)\n",
        "        out=model(feature.unsqueeze(1))\n",
        "        print(out.shape)\n",
        "        pred=out.transpose(1,2).transpose(2,3).contiguous().view(-1,2)\n",
        "        \n",
        "        pred=nn.functional.softmax(pred.cpu(),dim=1) # torch.Size([-1,2])- > [-1,2]\n",
        "        true=label.cpu().view(-1).long()\n",
        "        \n",
        "        with torch.no_grad():\n",
        "          pred=pred.cpu().unsqueeze(dim=1)\n",
        "          pred=pred[:,1]\n",
        "          pred[pred >= 0.5] = 1\n",
        "          pred[pred < 0.5] = 0\n",
        "  \n",
        "          jiao+=(true*pred).sum().item()\n",
        "          bing+=(true+pred).clamp(max=1).sum().item()\n",
        "          IOU=jiao/bing\n",
        "          \n",
        "          plt.imshow(pred.reshape(512,512).numpy()) \n",
        "          plt.show()\n",
        "          plt.imshow(true.reshape(512,512).numpy()) \n",
        "          plt.show()\n",
        "          print(\"交集：\",jiao,\"  并集:\",bing)\n",
        "    accuracy=IOU*100\n",
        "    print(\"IOU accuracy: \",accuracy,\"% \")\n",
        "    print(\"----------------------------------------------------------------\")\n",
        "    return IOU"
      ]
    },
    {
      "cell_type": "code",
      "execution_count": null,
      "metadata": {
        "colab": {
          "background_save": true,
          "base_uri": "https://localhost:8080/",
          "height": 364
        },
        "id": "tOpuy4B38_b7",
        "outputId": "ec5b0916-cd4a-4d9a-81de-0bc390789c86"
      },
      "outputs": [],
      "source": [
        "# torch.cuda.empty_cache()\n",
        "train()"
      ]
    }
  ],
  "metadata": {
    "accelerator": "GPU",
    "colab": {
      "collapsed_sections": [],
      "name": "Unet_1.ipynb",
      "provenance": [],
      "authorship_tag": "ABX9TyMIdY1liHyEr7Nj5S/ef0OH",
      "include_colab_link": true
    },
    "kernelspec": {
      "display_name": "Python 3",
      "name": "python3"
    },
    "language_info": {
      "name": "python"
    }
  },
  "nbformat": 4,
  "nbformat_minor": 0
}